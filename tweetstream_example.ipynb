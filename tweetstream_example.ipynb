{
 "metadata": {
  "name": "tweetstream_example"
 },
 "nbformat": 3,
 "nbformat_minor": 0,
 "worksheets": [
  {
   "cells": [
    {
     "cell_type": "markdown",
     "metadata": {},
     "source": [
      "This notebook is available on github."
     ]
    },
    {
     "cell_type": "heading",
     "level": 4,
     "metadata": {},
     "source": [
      "Connecting to the Twitter Streaming API"
     ]
    },
    {
     "cell_type": "markdown",
     "metadata": {},
     "source": [
      "* Twitter now provides access to its [Streaming API](https://dev.twitter.com/docs/streaming-apis)\n",
      "* The streaming API means you don't have to do any REST polling of an endpoing\n",
      "* Think of the streaming API like downloading a file of infinite length\n",
      "* You send one request, then open your mouth and drink from the firehose\n",
      "* Technically, the firehose is *all* of the tweets (or a good portion)\n",
      "* Twitter provides access to this on an as-needed basis (for cost, though academics likely get some leeway)\n",
      "* We will connect to the free \"garden hose\" or \"spritzer\" public API"
     ]
    },
    {
     "cell_type": "heading",
     "level": 4,
     "metadata": {},
     "source": [
      "A word on context managers"
     ]
    },
    {
     "cell_type": "markdown",
     "metadata": {},
     "source": [
      "* Python (>= 2.5) provides a language construct called a \"context manager\"\n",
      "* Context managers allow you to write code that \"does stuff\" on entry and exit of a block of code\n",
      "* They make use of the `with` statement\n",
      "* Use of a context manager may look something like this"
     ]
    },
    {
     "cell_type": "markdown",
     "metadata": {},
     "source": [
      "    with EXPRESSION [as VARIABLE]\n",
      "        BLOCK OF CODE"
     ]
    },
    {
     "cell_type": "markdown",
     "metadata": {},
     "source": [
      "* A context manager can be implemented as a class\n",
      "* This class needs to define __enter__ and __exit__ methods\n",
      "* There are other ways to create context managers using the [contextlib](http://docs.python.org/2/library/contextlib.html) module and decorators\n",
      "* Let's look at an example"
     ]
    },
    {
     "cell_type": "code",
     "collapsed": false,
     "input": [
      "from timeit import default_timer as timer\n",
      "\n",
      "class Timer(object):\n",
      "    def __enter__(self):\n",
      "        self.tic = timer()\n",
      "    \n",
      "    def __exit__(self, exc_type, exc_value, traceback):\n",
      "        # these arguments allow the exit to gracefully handle exceptions\n",
      "        toc = timer()\n",
      "        elapsed = (toc - self.tic)\n",
      "        print \"Code took %2.2f seconds to execute\" % elapsed"
     ],
     "language": "python",
     "metadata": {},
     "outputs": [],
     "prompt_number": 2
    },
    {
     "cell_type": "code",
     "collapsed": false,
     "input": [
      "import numpy as np\n",
      "\n",
      "with Timer():\n",
      "    for i in range(10000):\n",
      "        a = np.random.random(1000)\n",
      "        b = a.sum()"
     ],
     "language": "python",
     "metadata": {},
     "outputs": [
      {
       "output_type": "stream",
       "stream": "stdout",
       "text": [
        "Code took 0.26 seconds to execute\n"
       ]
      }
     ],
     "prompt_number": 4
    },
    {
     "cell_type": "markdown",
     "metadata": {},
     "source": [
      "* As you can imagine, context managers can be very powerful and useful\n",
      "* For example, I wrote a context manager manager to [text message](https://gist.github.com/jseabold/1291003) me when some code is done running"
     ]
    },
    {
     "cell_type": "heading",
     "level": 4,
     "metadata": {},
     "source": [
      "Twitter Streaming API using tweetstream"
     ]
    },
    {
     "cell_type": "markdown",
     "metadata": {},
     "source": [
      "* [tweetstream](https://pypi.python.org/pypi/tweetstream) is a framework for working with the Twitter Streaming API\n",
      "* Since it is a framework it's not terribly flexible, but it will meet our needs\n",
      "* If you are interested in how it works, look at the source on their [bitbutcket repository](https://bitbucket.org/runeh/tweetstream/src)\n",
      "* **Note:** Twitter has recently moved exclusively to OAuth identification\n",
      "* As of the writing of this notebook (3/4/13) tweetstream did not support OAuth, but there is a pull request to do so\n",
      "* I merged that pull request locally before installing tweetstream to run this code\n",
      "* Let's see how to use tweetstream using their `FilterStream` class"
     ]
    },
    {
     "cell_type": "code",
     "collapsed": false,
     "input": [
      "import tweetstream"
     ],
     "language": "python",
     "metadata": {},
     "outputs": [],
     "prompt_number": 5
    },
    {
     "cell_type": "markdown",
     "metadata": {},
     "source": [
      "* Say we were interested in what people are saying in DC right now\n",
      "* Define a bounding box as longitude, latitude pairs starting with the Southwest corner"
     ]
    },
    {
     "cell_type": "code",
     "collapsed": false,
     "input": [
      "dc_bounding_box = [\"-77.401428\", \"38.751941\", \"-76.728516\", \"39.123668\"]"
     ],
     "language": "python",
     "metadata": {},
     "outputs": [],
     "prompt_number": 8
    },
    {
     "cell_type": "markdown",
     "metadata": {},
     "source": [
      "* Load OAuth configuration (go get your own!)"
     ]
    },
    {
     "cell_type": "code",
     "collapsed": false,
     "input": [
      "import ConfigParser\n",
      "\n",
      "config = ConfigParser.ConfigParser()\n",
      "config.readfp(open(\"oauth.cfg\"))\n",
      "consumer_key = config.get(\"Oauth\", \"consumer_key\")\n",
      "consumer_secret = config.get(\"Oauth\", \"consumer_secret\")\n",
      "access_token = config.get(\"Oauth\", \"access_token\")\n",
      "access_token_secret = config.get(\"Oauth\", \"access_token_secret\")"
     ],
     "language": "python",
     "metadata": {},
     "outputs": [],
     "prompt_number": 7
    },
    {
     "cell_type": "code",
     "collapsed": false,
     "input": [
      "with tweetstream.FilterStream(consumer_key, consumer_secret, \n",
      "                              access_token, access_token_secret,\n",
      "                              locations=dc_bounding_box) as stream:\n",
      "    tweets = []\n",
      "    for tweet in stream:\n",
      "        tweets.append(tweet)\n",
      "        print tweet[\"text\"]\n",
      "        if stream.count > 25:\n",
      "            break"
     ],
     "language": "python",
     "metadata": {},
     "outputs": [
      {
       "output_type": "stream",
       "stream": "stdout",
       "text": [
        "#KCA #VoteSarah    9523\n",
        "@markbergado alot..."
       ]
      },
      {
       "output_type": "stream",
       "stream": "stdout",
       "text": [
        "\n",
        "@marycatcarr if you're not in school right now, you're probably a hooligan"
       ]
      },
      {
       "output_type": "stream",
       "stream": "stdout",
       "text": [
        "\n",
        "HBC= Hiawatha broadband communications. Leading small town wifi capabilities."
       ]
      },
      {
       "output_type": "stream",
       "stream": "stdout",
       "text": [
        "\n",
        "#NF @DejahLaraa FB?"
       ]
      },
      {
       "output_type": "stream",
       "stream": "stdout",
       "text": [
        "\n",
        "@jack_overholt21 's last two movie include Letters to Juliet and the Perks of Being a Wallflower (3 times)"
       ]
      },
      {
       "output_type": "stream",
       "stream": "stdout",
       "text": [
        "\n",
        "Why is it that when things seem to be going good shit just comes falling down?\n",
        "#KCA #VoteSarah    9514"
       ]
      },
      {
       "output_type": "stream",
       "stream": "stdout",
       "text": [
        "\n",
        "Another homegirl!! 2 electrolyte, sugar free therapeutic @livesmart360 #zipchews (@ Fitness Evolution) http://t.co/nRX3qoTJMg"
       ]
      },
      {
       "output_type": "stream",
       "stream": "stdout",
       "text": [
        "\n",
        "#KCA #VoteSarah    9515"
       ]
      },
      {
       "output_type": "stream",
       "stream": "stdout",
       "text": [
        "\n",
        "@RashaManoppo creature"
       ]
      },
      {
       "output_type": "stream",
       "stream": "stdout",
       "text": [
        "\n",
        "For Colored Girls Who Have Considered Suicide When the Dragon is Enuf #replaceplaytitleswithDRAGON"
       ]
      },
      {
       "output_type": "stream",
       "stream": "stdout",
       "text": [
        "\n",
        "Tell me something sweet to get me by."
       ]
      },
      {
       "output_type": "stream",
       "stream": "stdout",
       "text": [
        "\n",
        "@OctavionX. @SlapdashVA.   @machinegunkelly machine @DuBz216 are booking dates for the makeup tour now.. just saying"
       ]
      },
      {
       "output_type": "stream",
       "stream": "stdout",
       "text": [
        "\n",
        "I'm at Crate &amp; Barrel Outlet (Alexandria, VA) http://t.co/aDo9BpaHjE"
       ]
      },
      {
       "output_type": "stream",
       "stream": "stdout",
       "text": [
        "\n",
        "In a very awkward situation right now, let's see how this goes."
       ]
      },
      {
       "output_type": "stream",
       "stream": "stdout",
       "text": [
        "\n",
        "#KCA #VoteSarah    9516"
       ]
      },
      {
       "output_type": "stream",
       "stream": "stdout",
       "text": [
        "\n",
        "Being in shock sucks. I've been in shock. It's not fun"
       ]
      },
      {
       "output_type": "stream",
       "stream": "stdout",
       "text": [
        "\n",
        "@starks94 - Long term contract!!! Save us the cap room!!!!"
       ]
      },
      {
       "output_type": "stream",
       "stream": "stdout",
       "text": [
        "\n",
        "let it snow after my mom leaves"
       ]
      },
      {
       "output_type": "stream",
       "stream": "stdout",
       "text": [
        "\n",
        "#AutomaticTurnOns @justinbieber"
       ]
      },
      {
       "output_type": "stream",
       "stream": "stdout",
       "text": [
        "\n",
        "@AmourMeansLove ft @FredCouncil \"Sound Off\" is now on @BOLDradio at http://t.co/bYRp8JSbFZ  bonded wit @PTM216 #LIVEBOLD"
       ]
      },
      {
       "output_type": "stream",
       "stream": "stdout",
       "text": [
        "\n",
        "#KCA #VoteSarah    9517"
       ]
      },
      {
       "output_type": "stream",
       "stream": "stdout",
       "text": [
        "\n",
        "\u0646\u06c1 \u06c1\u0648 \u062c\u0628 \u062f\u0644 \u06c1\u06cc \u0633\u06cc\u0646\u06d2 \u0645\u06cc\u06ba \u062a\u0648 \u067e\u06be\u0631 \u0645\u0646\u06c1 \u0645\u06cc\u06ba \u0632\u0628\u0627\u06ba \u06a9\u06cc\u0648\u06ba \u06c1\u0648 !!!"
       ]
      },
      {
       "output_type": "stream",
       "stream": "stdout",
       "text": [
        "\n",
        "Who needs a weight vest when you have a toddler strapped to your back? #crossfitproblems @ Lakelands\u2026 http://t.co/dGjfQ9L5tG"
       ]
      },
      {
       "output_type": "stream",
       "stream": "stdout",
       "text": [
        "\n",
        "I'm at Urban Outfitters (Washington, DC) http://t.co/Ev6U5UaS2Q"
       ]
      },
      {
       "output_type": "stream",
       "stream": "stdout",
       "text": [
        "\n"
       ]
      }
     ],
     "prompt_number": 12
    },
    {
     "cell_type": "markdown",
     "metadata": {},
     "source": [
      "* In the repository for this talk, there is a file twitter_firestream.py\n",
      "* It uses filtered by keyword to see what the world thinks about the sequester\n",
      "* I ran it over the weekend of 3/1/13 when the sequest took place\n",
      "* It uses [MongoDB](http://www.mongodb.org/) and [pymongo](http://api.mongodb.org/python/current/) to store the tweets"
     ]
    }
   ],
   "metadata": {}
  }
 ]
}